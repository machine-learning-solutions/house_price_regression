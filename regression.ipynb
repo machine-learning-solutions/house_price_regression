{
 "cells": [
  {
   "cell_type": "markdown",
   "metadata": {},
   "source": [
    "## Title of Project : Exploratory analysis by using Linear Regressions on the houses prices in selected areas in USA data set\n",
    "## Dataset Source : https://www.kaggle.com/ialjadani/houses-prices-in-selected-area-in-usa"
   ]
  },
  {
   "cell_type": "code",
   "execution_count": 4,
   "metadata": {},
   "outputs": [],
   "source": [
    "import warnings\n",
    "warnings.filterwarnings('ignore')\n",
    "pd.set_option('display.max_colwidth', None)\n",
    "pd.set_option(\"max_rows\", None)"
   ]
  },
  {
   "cell_type": "markdown",
   "metadata": {},
   "source": [
    "## Importing and Drop some features no need for the regression process\n"
   ]
  },
  {
   "cell_type": "code",
   "execution_count": 5,
   "metadata": {},
   "outputs": [
    {
     "data": {
      "text/html": [
       "<div>\n",
       "<style scoped>\n",
       "    .dataframe tbody tr th:only-of-type {\n",
       "        vertical-align: middle;\n",
       "    }\n",
       "\n",
       "    .dataframe tbody tr th {\n",
       "        vertical-align: top;\n",
       "    }\n",
       "\n",
       "    .dataframe thead th {\n",
       "        text-align: right;\n",
       "    }\n",
       "</style>\n",
       "<table border=\"1\" class=\"dataframe\">\n",
       "  <thead>\n",
       "    <tr style=\"text-align: right;\">\n",
       "      <th></th>\n",
       "      <th>Price</th>\n",
       "      <th>Brokered_by</th>\n",
       "      <th>AD_Situation</th>\n",
       "      <th>Rooms</th>\n",
       "      <th>Bath</th>\n",
       "      <th>Building space</th>\n",
       "      <th>Address</th>\n",
       "      <th>City</th>\n",
       "      <th>State</th>\n",
       "    </tr>\n",
       "  </thead>\n",
       "  <tbody>\n",
       "    <tr>\n",
       "      <th>0</th>\n",
       "      <td>289900</td>\n",
       "      <td>Greene Realty Group LLC</td>\n",
       "      <td>New - 7 hours ago</td>\n",
       "      <td>3</td>\n",
       "      <td>2.0</td>\n",
       "      <td>1944</td>\n",
       "      <td>5142 Puget Rd NE, Olympia, WA 98516</td>\n",
       "      <td>Olympia</td>\n",
       "      <td>WA 98516</td>\n",
       "    </tr>\n",
       "    <tr>\n",
       "      <th>1</th>\n",
       "      <td>150000</td>\n",
       "      <td>Jet Real Estate</td>\n",
       "      <td>New</td>\n",
       "      <td>2</td>\n",
       "      <td>2.0</td>\n",
       "      <td>1200</td>\n",
       "      <td>15718 Ordway Dr SE, Yelm, WA 98597</td>\n",
       "      <td>Yelm</td>\n",
       "      <td>WA 98597</td>\n",
       "    </tr>\n",
       "    <tr>\n",
       "      <th>2</th>\n",
       "      <td>199500</td>\n",
       "      <td>Windermere Real Estate Yelm</td>\n",
       "      <td>New - 7 hours ago</td>\n",
       "      <td>3</td>\n",
       "      <td>2.0</td>\n",
       "      <td>1012</td>\n",
       "      <td>17020 Wisteria Cir SE, Yelm, WA 98597</td>\n",
       "      <td>Yelm</td>\n",
       "      <td>WA 98597</td>\n",
       "    </tr>\n",
       "    <tr>\n",
       "      <th>3</th>\n",
       "      <td>419900</td>\n",
       "      <td>John L. Scott - Olympia</td>\n",
       "      <td>New - 7 hours ago</td>\n",
       "      <td>3</td>\n",
       "      <td>1.5</td>\n",
       "      <td>1986</td>\n",
       "      <td>14148 Tilley Rd S, Tenino, WA 98589</td>\n",
       "      <td>Tenino</td>\n",
       "      <td>WA 98589</td>\n",
       "    </tr>\n",
       "    <tr>\n",
       "      <th>4</th>\n",
       "      <td>146999</td>\n",
       "      <td>Adair Homes</td>\n",
       "      <td>Old</td>\n",
       "      <td>3</td>\n",
       "      <td>2.0</td>\n",
       "      <td>1340</td>\n",
       "      <td>South Puget Sound 2303 93rd Ave SW, Olympia, WA 98512</td>\n",
       "      <td>Olympia</td>\n",
       "      <td>WA 98512</td>\n",
       "    </tr>\n",
       "  </tbody>\n",
       "</table>\n",
       "</div>"
      ],
      "text/plain": [
       "    Price                  Brokered_by       AD_Situation  Rooms  Bath  \\\n",
       "0  289900      Greene Realty Group LLC  New - 7 hours ago      3   2.0   \n",
       "1  150000              Jet Real Estate                New      2   2.0   \n",
       "2  199500  Windermere Real Estate Yelm  New - 7 hours ago      3   2.0   \n",
       "3  419900      John L. Scott - Olympia  New - 7 hours ago      3   1.5   \n",
       "4  146999                  Adair Homes                Old      3   2.0   \n",
       "\n",
       "   Building space                                                Address  \\\n",
       "0            1944                    5142 Puget Rd NE, Olympia, WA 98516   \n",
       "1            1200                     15718 Ordway Dr SE, Yelm, WA 98597   \n",
       "2            1012                  17020 Wisteria Cir SE, Yelm, WA 98597   \n",
       "3            1986                    14148 Tilley Rd S, Tenino, WA 98589   \n",
       "4            1340  South Puget Sound 2303 93rd Ave SW, Olympia, WA 98512   \n",
       "\n",
       "      City      State  \n",
       "0  Olympia   WA 98516  \n",
       "1     Yelm   WA 98597  \n",
       "2     Yelm   WA 98597  \n",
       "3   Tenino   WA 98589  \n",
       "4  Olympia   WA 98512  "
      ]
     },
     "execution_count": 5,
     "metadata": {},
     "output_type": "execute_result"
    }
   ],
   "source": [
    "import pandas as pd\n",
    "import numpy as np\n",
    "df=pd.read_csv(\"houses_dataset.csv\")\n",
    "df=df.drop([\"Currency\",\"Unnamed: 0\",\"Measruing unit\"],axis=1)\n",
    "df.head(5)"
   ]
  },
  {
   "cell_type": "markdown",
   "metadata": {},
   "source": [
    "## Description of Dataset"
   ]
  },
  {
   "cell_type": "code",
   "execution_count": 6,
   "metadata": {},
   "outputs": [
    {
     "data": {
      "text/html": [
       "<div>\n",
       "<style scoped>\n",
       "    .dataframe tbody tr th:only-of-type {\n",
       "        vertical-align: middle;\n",
       "    }\n",
       "\n",
       "    .dataframe tbody tr th {\n",
       "        vertical-align: top;\n",
       "    }\n",
       "\n",
       "    .dataframe thead th {\n",
       "        text-align: right;\n",
       "    }\n",
       "</style>\n",
       "<table border=\"1\" class=\"dataframe\">\n",
       "  <thead>\n",
       "    <tr style=\"text-align: right;\">\n",
       "      <th></th>\n",
       "      <th>Price</th>\n",
       "      <th>Rooms</th>\n",
       "      <th>Bath</th>\n",
       "      <th>Building space</th>\n",
       "    </tr>\n",
       "  </thead>\n",
       "  <tbody>\n",
       "    <tr>\n",
       "      <th>count</th>\n",
       "      <td>1.718000e+03</td>\n",
       "      <td>1718.000000</td>\n",
       "      <td>1718.000000</td>\n",
       "      <td>1718.000000</td>\n",
       "    </tr>\n",
       "    <tr>\n",
       "      <th>mean</th>\n",
       "      <td>6.243967e+05</td>\n",
       "      <td>3.291036</td>\n",
       "      <td>2.326542</td>\n",
       "      <td>2026.519208</td>\n",
       "    </tr>\n",
       "    <tr>\n",
       "      <th>std</th>\n",
       "      <td>4.687882e+05</td>\n",
       "      <td>1.040945</td>\n",
       "      <td>0.856069</td>\n",
       "      <td>951.392533</td>\n",
       "    </tr>\n",
       "    <tr>\n",
       "      <th>min</th>\n",
       "      <td>2.000000e+04</td>\n",
       "      <td>1.000000</td>\n",
       "      <td>0.500000</td>\n",
       "      <td>454.000000</td>\n",
       "    </tr>\n",
       "    <tr>\n",
       "      <th>25%</th>\n",
       "      <td>3.606250e+05</td>\n",
       "      <td>3.000000</td>\n",
       "      <td>2.000000</td>\n",
       "      <td>1360.250000</td>\n",
       "    </tr>\n",
       "    <tr>\n",
       "      <th>50%</th>\n",
       "      <td>4.849995e+05</td>\n",
       "      <td>3.000000</td>\n",
       "      <td>2.000000</td>\n",
       "      <td>1860.000000</td>\n",
       "    </tr>\n",
       "    <tr>\n",
       "      <th>75%</th>\n",
       "      <td>7.355745e+05</td>\n",
       "      <td>4.000000</td>\n",
       "      <td>2.500000</td>\n",
       "      <td>2493.000000</td>\n",
       "    </tr>\n",
       "    <tr>\n",
       "      <th>max</th>\n",
       "      <td>4.600000e+06</td>\n",
       "      <td>13.000000</td>\n",
       "      <td>10.000000</td>\n",
       "      <td>12873.000000</td>\n",
       "    </tr>\n",
       "  </tbody>\n",
       "</table>\n",
       "</div>"
      ],
      "text/plain": [
       "              Price        Rooms         Bath  Building space\n",
       "count  1.718000e+03  1718.000000  1718.000000     1718.000000\n",
       "mean   6.243967e+05     3.291036     2.326542     2026.519208\n",
       "std    4.687882e+05     1.040945     0.856069      951.392533\n",
       "min    2.000000e+04     1.000000     0.500000      454.000000\n",
       "25%    3.606250e+05     3.000000     2.000000     1360.250000\n",
       "50%    4.849995e+05     3.000000     2.000000     1860.000000\n",
       "75%    7.355745e+05     4.000000     2.500000     2493.000000\n",
       "max    4.600000e+06    13.000000    10.000000    12873.000000"
      ]
     },
     "execution_count": 6,
     "metadata": {},
     "output_type": "execute_result"
    }
   ],
   "source": [
    "df.describe()"
   ]
  },
  {
   "cell_type": "markdown",
   "metadata": {},
   "source": [
    "## Show the correlation between the explanotary features and response feature\n",
    "\n",
    "Depending on the result of correlation matrix we found the Feature Building space is the most correlated wit the Price Feature so our independent variable will be the Building space Feature"
   ]
  },
  {
   "cell_type": "code",
   "execution_count": 7,
   "metadata": {},
   "outputs": [
    {
     "data": {
      "text/html": [
       "<div>\n",
       "<style scoped>\n",
       "    .dataframe tbody tr th:only-of-type {\n",
       "        vertical-align: middle;\n",
       "    }\n",
       "\n",
       "    .dataframe tbody tr th {\n",
       "        vertical-align: top;\n",
       "    }\n",
       "\n",
       "    .dataframe thead th {\n",
       "        text-align: right;\n",
       "    }\n",
       "</style>\n",
       "<table border=\"1\" class=\"dataframe\">\n",
       "  <thead>\n",
       "    <tr style=\"text-align: right;\">\n",
       "      <th></th>\n",
       "      <th>Price</th>\n",
       "      <th>Rooms</th>\n",
       "      <th>Bath</th>\n",
       "      <th>Building space</th>\n",
       "    </tr>\n",
       "  </thead>\n",
       "  <tbody>\n",
       "    <tr>\n",
       "      <th>Price</th>\n",
       "      <td>1.000000</td>\n",
       "      <td>0.346652</td>\n",
       "      <td>0.556632</td>\n",
       "      <td>0.608510</td>\n",
       "    </tr>\n",
       "    <tr>\n",
       "      <th>Rooms</th>\n",
       "      <td>0.346652</td>\n",
       "      <td>1.000000</td>\n",
       "      <td>0.649800</td>\n",
       "      <td>0.656164</td>\n",
       "    </tr>\n",
       "    <tr>\n",
       "      <th>Bath</th>\n",
       "      <td>0.556632</td>\n",
       "      <td>0.649800</td>\n",
       "      <td>1.000000</td>\n",
       "      <td>0.726385</td>\n",
       "    </tr>\n",
       "    <tr>\n",
       "      <th>Building space</th>\n",
       "      <td>0.608510</td>\n",
       "      <td>0.656164</td>\n",
       "      <td>0.726385</td>\n",
       "      <td>1.000000</td>\n",
       "    </tr>\n",
       "  </tbody>\n",
       "</table>\n",
       "</div>"
      ],
      "text/plain": [
       "                   Price     Rooms      Bath  Building space\n",
       "Price           1.000000  0.346652  0.556632        0.608510\n",
       "Rooms           0.346652  1.000000  0.649800        0.656164\n",
       "Bath            0.556632  0.649800  1.000000        0.726385\n",
       "Building space  0.608510  0.656164  0.726385        1.000000"
      ]
     },
     "execution_count": 7,
     "metadata": {},
     "output_type": "execute_result"
    }
   ],
   "source": [
    "df.corr()"
   ]
  },
  {
   "cell_type": "markdown",
   "metadata": {},
   "source": [
    "## Distrubution of Features"
   ]
  },
  {
   "cell_type": "code",
   "execution_count": 8,
   "metadata": {},
   "outputs": [
    {
     "data": {
      "text/plain": [
       "array([[<AxesSubplot:title={'center':'Price'}>,\n",
       "        <AxesSubplot:title={'center':'Rooms'}>,\n",
       "        <AxesSubplot:title={'center':'Bath'}>,\n",
       "        <AxesSubplot:title={'center':'Building space'}>],\n",
       "       [<AxesSubplot:>, <AxesSubplot:>, <AxesSubplot:>, <AxesSubplot:>],\n",
       "       [<AxesSubplot:>, <AxesSubplot:>, <AxesSubplot:>, <AxesSubplot:>],\n",
       "       [<AxesSubplot:>, <AxesSubplot:>, <AxesSubplot:>, <AxesSubplot:>]],\n",
       "      dtype=object)"
      ]
     },
     "execution_count": 8,
     "metadata": {},
     "output_type": "execute_result"
    },
    {
     "data": {
      "image/png": "[encoded data removed]",
      "text/plain": [
       "<Figure size 1296x1296 with 16 Axes>"
      ]
     },
     "metadata": {
      "needs_background": "light"
     },
     "output_type": "display_data"
    }
   ],
   "source": [
    "hist=df.hist(figsize=(18,18),layout=(4,4))\n",
    "hist"
   ]
  },
  {
   "cell_type": "markdown",
   "metadata": {},
   "source": [
    "## Select the explanotary features and response feature"
   ]
  },
  {
   "cell_type": "code",
   "execution_count": 9,
   "metadata": {},
   "outputs": [],
   "source": [
    "X=df[[\"Rooms\",\"Bath\",\"Building space\"]]\n",
    "Y=df[\"Price\"]"
   ]
  },
  {
   "cell_type": "code",
   "execution_count": 10,
   "metadata": {},
   "outputs": [
    {
     "name": "stdout",
     "output_type": "stream",
     "text": [
      "The independent features\n"
     ]
    },
    {
     "data": {
      "text/html": [
       "<div>\n",
       "<style scoped>\n",
       "    .dataframe tbody tr th:only-of-type {\n",
       "        vertical-align: middle;\n",
       "    }\n",
       "\n",
       "    .dataframe tbody tr th {\n",
       "        vertical-align: top;\n",
       "    }\n",
       "\n",
       "    .dataframe thead th {\n",
       "        text-align: right;\n",
       "    }\n",
       "</style>\n",
       "<table border=\"1\" class=\"dataframe\">\n",
       "  <thead>\n",
       "    <tr style=\"text-align: right;\">\n",
       "      <th></th>\n",
       "      <th>Rooms</th>\n",
       "      <th>Bath</th>\n",
       "      <th>Building space</th>\n",
       "    </tr>\n",
       "  </thead>\n",
       "  <tbody>\n",
       "    <tr>\n",
       "      <th>0</th>\n",
       "      <td>3</td>\n",
       "      <td>2.0</td>\n",
       "      <td>1944</td>\n",
       "    </tr>\n",
       "    <tr>\n",
       "      <th>1</th>\n",
       "      <td>2</td>\n",
       "      <td>2.0</td>\n",
       "      <td>1200</td>\n",
       "    </tr>\n",
       "    <tr>\n",
       "      <th>2</th>\n",
       "      <td>3</td>\n",
       "      <td>2.0</td>\n",
       "      <td>1012</td>\n",
       "    </tr>\n",
       "    <tr>\n",
       "      <th>3</th>\n",
       "      <td>3</td>\n",
       "      <td>1.5</td>\n",
       "      <td>1986</td>\n",
       "    </tr>\n",
       "    <tr>\n",
       "      <th>4</th>\n",
       "      <td>3</td>\n",
       "      <td>2.0</td>\n",
       "      <td>1340</td>\n",
       "    </tr>\n",
       "  </tbody>\n",
       "</table>\n",
       "</div>"
      ],
      "text/plain": [
       "   Rooms  Bath  Building space\n",
       "0      3   2.0            1944\n",
       "1      2   2.0            1200\n",
       "2      3   2.0            1012\n",
       "3      3   1.5            1986\n",
       "4      3   2.0            1340"
      ]
     },
     "execution_count": 10,
     "metadata": {},
     "output_type": "execute_result"
    }
   ],
   "source": [
    "print(\"The independent features\")\n",
    "X.head(5)\n"
   ]
  },
  {
   "cell_type": "code",
   "execution_count": 11,
   "metadata": {},
   "outputs": [
    {
     "name": "stdout",
     "output_type": "stream",
     "text": [
      "The dependent fature\n"
     ]
    },
    {
     "data": {
      "text/plain": [
       "0    289900\n",
       "1    150000\n",
       "2    199500\n",
       "3    419900\n",
       "4    146999\n",
       "Name: Price, dtype: int64"
      ]
     },
     "execution_count": 11,
     "metadata": {},
     "output_type": "execute_result"
    }
   ],
   "source": [
    "print(\"The dependent fature\")\n",
    "Y.head(5)"
   ]
  },
  {
   "cell_type": "markdown",
   "metadata": {},
   "source": [
    "## Explanotary feature preprocessing"
   ]
  },
  {
   "cell_type": "code",
   "execution_count": 12,
   "metadata": {},
   "outputs": [
    {
     "name": "stdout",
     "output_type": "stream",
     "text": [
      "[[1944]\n",
      " [1200]\n",
      " [1012]\n",
      " ...\n",
      " [ 731]\n",
      " [1962]\n",
      " [3069]]\n"
     ]
    }
   ],
   "source": [
    "X=X[\"Building space\"]\n",
    "X=np.array(X).reshape(1718,1)\n",
    "# from sklearn import preprocessing\n",
    "\n",
    "# scale = preprocessing.MinMaxScaler(feature_range=(0, 1))\n",
    "# feature = scale.fit_transform(X)\n",
    "\n",
    "# scale = preprocessing.StandardScaler() \n",
    "# standard = scale.fit_transform(feature)\n",
    "\n",
    "# print(standard)\n",
    "\n",
    "print(X)"
   ]
  },
  {
   "cell_type": "code",
   "execution_count": 13,
   "metadata": {},
   "outputs": [
    {
     "name": "stdout",
     "output_type": "stream",
     "text": [
      "[289900 150000 199500 ... 399000 744900 819950]\n"
     ]
    }
   ],
   "source": [
    "Y=np.array(Y)\n",
    "print(Y)"
   ]
  },
  {
   "cell_type": "markdown",
   "metadata": {},
   "source": [
    "## Split the Data"
   ]
  },
  {
   "cell_type": "code",
   "execution_count": 14,
   "metadata": {},
   "outputs": [],
   "source": [
    "from sklearn.model_selection import train_test_split\n",
    "\n",
    "x_train,x_test,y_train,y_test= train_test_split(X,Y,test_size=0.30, random_state=1)\n"
   ]
  },
  {
   "cell_type": "markdown",
   "metadata": {},
   "source": [
    "## Fit the Model"
   ]
  },
  {
   "cell_type": "code",
   "execution_count": 15,
   "metadata": {},
   "outputs": [
    {
     "data": {
      "text/plain": [
       "LinearRegression()"
      ]
     },
     "execution_count": 15,
     "metadata": {},
     "output_type": "execute_result"
    }
   ],
   "source": [
    "from sklearn.linear_model import LinearRegression\n",
    "\n",
    "model=LinearRegression()\n",
    "\n",
    "model.fit(x_train,y_train)"
   ]
  },
  {
   "cell_type": "markdown",
   "metadata": {},
   "source": [
    "## Predict "
   ]
  },
  {
   "cell_type": "code",
   "execution_count": 16,
   "metadata": {},
   "outputs": [],
   "source": [
    "y_predict=model.predict(x_test)"
   ]
  },
  {
   "cell_type": "code",
   "execution_count": 17,
   "metadata": {},
   "outputs": [
    {
     "data": {
      "text/plain": [
       "array([264028.60798953, 593756.96850005, 616579.69654996, 539402.83985487,\n",
       "       401565.57439556, 903665.59149354, 750513.07431652, 587750.98743428,\n",
       "       812674.97834719, 600363.54767239])"
      ]
     },
     "execution_count": 17,
     "metadata": {},
     "output_type": "execute_result"
    }
   ],
   "source": [
    "y_predict[0:10]"
   ]
  },
  {
   "cell_type": "code",
   "execution_count": 18,
   "metadata": {},
   "outputs": [
    {
     "data": {
      "text/plain": [
       "array([ 289999,  589900, 1495000,  419990,  385000,  789999,  425000,\n",
       "        334900,  789000,  190499])"
      ]
     },
     "execution_count": 18,
     "metadata": {},
     "output_type": "execute_result"
    }
   ],
   "source": [
    "y_test[0:10]"
   ]
  },
  {
   "cell_type": "markdown",
   "metadata": {},
   "source": [
    "## Plot The Testing Data\n"
   ]
  },
  {
   "cell_type": "code",
   "execution_count": 28,
   "metadata": {},
   "outputs": [
    {
     "data": {
      "text/plain": [
       "[<matplotlib.lines.Line2D at 0x7fd4de1363a0>]"
      ]
     },
     "execution_count": 28,
     "metadata": {},
     "output_type": "execute_result"
    },
    {
     "data": {
      "image/png": "[encoded data removed]",
      "text/plain": [
       "<Figure size 432x288 with 1 Axes>"
      ]
     },
     "metadata": {
      "needs_background": "light"
     },
     "output_type": "display_data"
    }
   ],
   "source": [
    "import matplotlib.pyplot as plt\n",
    "plt.title(\"The Trend of Testing Data\")\n",
    "plt.ylabel(\"Price 1e6 $\")\n",
    "plt.xlabel(\"Building space Square Feet\")\n",
    "plt.xlim(0, 5000)\n",
    "plt.ylim(0, 1.75*10**6)\n",
    "plt.scatter(x_test,y_test)\n",
    "plt.plot(x_test,y_predict,'ro')"
   ]
  },
  {
   "cell_type": "markdown",
   "metadata": {},
   "source": [
    "## Plot the predicted Data"
   ]
  },
  {
   "cell_type": "code",
   "execution_count": 20,
   "metadata": {},
   "outputs": [
    {
     "data": {
      "text/plain": [
       "<matplotlib.collections.PathCollection at 0x7fd4dee643a0>"
      ]
     },
     "execution_count": 20,
     "metadata": {},
     "output_type": "execute_result"
    },
    {
     "data": {
      "image/png": "[encoded data removed]",
      "text/plain": [
       "<Figure size 432x288 with 1 Axes>"
      ]
     },
     "metadata": {
      "needs_background": "light"
     },
     "output_type": "display_data"
    }
   ],
   "source": [
    "plt.title(\"The Trend of Predicted Data\")\n",
    "plt.ylabel(\"Price 1e6 $\")\n",
    "plt.xlabel(\"Building space Square Feet\")\n",
    "plt.xlim(0, 5000)\n",
    "plt.ylim(0, 1.75*10**6)\n",
    "plt.scatter(x_test,y_predict)"
   ]
  },
  {
   "cell_type": "markdown",
   "metadata": {},
   "source": [
    "## Evaluation of Model"
   ]
  },
  {
   "cell_type": "code",
   "execution_count": 21,
   "metadata": {},
   "outputs": [
    {
     "name": "stdout",
     "output_type": "stream",
     "text": [
      "Tranning Accurecy: 0.37\n"
     ]
    }
   ],
   "source": [
    "training_accurecy = round(model.score(x_train,y_train),3)\n",
    "print(f\"Tranning Accurecy: {training_accurecy}\")"
   ]
  },
  {
   "cell_type": "code",
   "execution_count": 22,
   "metadata": {},
   "outputs": [
    {
     "name": "stdout",
     "output_type": "stream",
     "text": [
      "Testing Accurecy: 0.371\n"
     ]
    }
   ],
   "source": [
    "testing_accurecy = round(model.score(x_test,y_test),3)\n",
    "print(f\"Testing Accurecy: {testing_accurecy}\")"
   ]
  },
  {
   "cell_type": "code",
   "execution_count": 23,
   "metadata": {},
   "outputs": [
    {
     "name": "stdout",
     "output_type": "stream",
     "text": [
      "Predicting Accurecy: 1.0\n"
     ]
    }
   ],
   "source": [
    "predicting_accurecy = round(model.score(x_test,y_predict),3)\n",
    "print(f\"Predicting Accurecy: {predicting_accurecy}\")"
   ]
  },
  {
   "cell_type": "code",
   "execution_count": 24,
   "metadata": {},
   "outputs": [
    {
     "name": "stdout",
     "output_type": "stream",
     "text": [
      "R^2 :0.371\n"
     ]
    }
   ],
   "source": [
    "from sklearn.metrics import r2_score\n",
    "R2=round(r2_score(y_test, y_predict),3)\n",
    "print(f\"R^2 :{R2}\")"
   ]
  },
  {
   "cell_type": "code",
   "execution_count": 25,
   "metadata": {},
   "outputs": [
    {
     "ename": "NameError",
     "evalue": "name 'mean_absolute_error' is not defined",
     "output_type": "error",
     "traceback": [
      "\u001b[0;31m---------------------------------------------------------------------------\u001b[0m",
      "\u001b[0;31mNameError\u001b[0m                                 Traceback (most recent call last)",
      "\u001b[0;32m/tmp/ipykernel_15393/1379750153.py\u001b[0m in \u001b[0;36m<module>\u001b[0;34m\u001b[0m\n\u001b[0;32m----> 1\u001b[0;31m \u001b[0mmae\u001b[0m\u001b[0;34m=\u001b[0m\u001b[0mmean_absolute_error\u001b[0m\u001b[0;34m(\u001b[0m\u001b[0my_test\u001b[0m\u001b[0;34m,\u001b[0m \u001b[0my_predict\u001b[0m\u001b[0;34m)\u001b[0m\u001b[0;34m\u001b[0m\u001b[0;34m\u001b[0m\u001b[0m\n\u001b[0m\u001b[1;32m      2\u001b[0m \u001b[0mprint\u001b[0m\u001b[0;34m(\u001b[0m\u001b[0;34mf\"Mean Absoulte Error: {mae}\"\u001b[0m\u001b[0;34m)\u001b[0m\u001b[0;34m\u001b[0m\u001b[0;34m\u001b[0m\u001b[0m\n",
      "\u001b[0;31mNameError\u001b[0m: name 'mean_absolute_error' is not defined"
     ]
    }
   ],
   "source": [
    "mae=mean_absolute_error(y_test, y_predict)\n",
    "print(f\"Mean Absoulte Error: {mae}\")"
   ]
  },
  {
   "cell_type": "code",
   "execution_count": null,
   "metadata": {},
   "outputs": [],
   "source": [
    "mse=np.sqrt(mean_squared_error(y_test, y_predict))\n",
    "print(f\"Mean Squared Error: {mse}\")"
   ]
  },
  {
   "cell_type": "markdown",
   "metadata": {},
   "source": [
    "## Concolusion\n",
    "\n",
    "1. There is no None values in the dataset\n",
    "2. The most correlated feature is Building space\n",
    "3. The dataset need more processing to improve the accurecy and the result of r^2 is near to be optimal"
   ]
  }
 ],
 "metadata": {
  "interpreter": {
   "hash": "45aea0115ce717bb789c85502b0521b780d44741d773af4c11361c7984d194a9"
  },
  "kernelspec": {
   "display_name": "Python 3.9.5 64-bit ('.venv': poetry)",
   "name": "python3"
  },
  "language_info": {
   "codemirror_mode": {
    "name": "ipython",
    "version": 3
   },
   "file_extension": ".py",
   "mimetype": "text/x-python",
   "name": "python",
   "nbconvert_exporter": "python",
   "pygments_lexer": "ipython3",
   "version": "3.9.5"
  }
 },
 "nbformat": 4,
 "nbformat_minor": 2
}
